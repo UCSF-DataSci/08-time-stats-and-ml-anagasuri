{
 "cells": [
  {
   "cell_type": "markdown",
   "metadata": {},
   "source": [
    "### Data Modeling "
   ]
  },
  {
   "cell_type": "code",
   "execution_count": 2,
   "metadata": {},
   "outputs": [],
   "source": [
    "import pandas as pd \n",
    "import matplotlib.pyplot as plt\n",
    "import statsmodels.api as sm\n",
    "import numpy as np"
   ]
  },
  {
   "cell_type": "markdown",
   "metadata": {},
   "source": [
    "## Time Series Task #1\n",
    "\n",
    "1. Convert the longitudinal blood pressure measurements into a proper time series:\n",
    "   - Create a pandas Series with DatetimeIndex using `visit_date`\n",
    "   - Handle any missing or duplicate measurements appropriately\n",
    "   - Tips: \n",
    "     - Use `pd.to_datetime()` with format='%Y-%m-%d' for reliable parsing\n",
    "     - Handle duplicates with `duplicated()` and appropriate aggregation\n",
    "     - Consider timezone handling with `tz_localize()` if neededs\n",
    "     - Use `interpolate()` or `fillna()` for missing values"
   ]
  },
  {
   "cell_type": "code",
   "execution_count": 3,
   "metadata": {},
   "outputs": [],
   "source": [
    "# load dataset and create series \n",
    "df = pd.read_csv(\"patient_longitudinal.csv\", sep='\\t')\n",
    "df['visit_date'] = pd.to_datetime(df['visit_date'])"
   ]
  },
  {
   "cell_type": "code",
   "execution_count": 5,
   "metadata": {},
   "outputs": [
    {
     "name": "stdout",
     "output_type": "stream",
     "text": [
      "<bound method NDFrame.head of             patient_id  bp_systolic  heart_rate  adverse_event   age  sex  \\\n",
      "visit_date                                                                  \n",
      "2023-01-17           0        108.6        72.4            0.0  57.5  0.0   \n",
      "2023-02-22           0        104.8        71.9            0.0  57.5  0.0   \n",
      "2023-03-23           0        106.3        76.2            0.0  57.5  0.0   \n",
      "2023-04-16           0        110.8        76.5            0.0  57.5  0.0   \n",
      "2023-06-05           0        117.7        78.4            0.0  57.5  0.0   \n",
      "...                ...          ...         ...            ...   ...  ...   \n",
      "2027-08-28         999        138.4        95.0            0.0  58.6  0.0   \n",
      "2027-09-17         999        136.4        91.5            0.0  58.6  0.0   \n",
      "2027-10-14         999        137.6        94.0            0.0  58.6  0.0   \n",
      "2027-12-02         999        137.8        95.4            0.0  58.6  0.0   \n",
      "2027-12-11         999        135.1        91.9            0.0  58.6  0.0   \n",
      "\n",
      "             bmi  smoking  diabetes  \n",
      "visit_date                           \n",
      "2023-01-17  25.8      0.0       0.0  \n",
      "2023-02-22  25.8      0.0       0.0  \n",
      "2023-03-23  25.8      0.0       0.0  \n",
      "2023-04-16  25.8      0.0       0.0  \n",
      "2023-06-05  25.8      0.0       0.0  \n",
      "...          ...      ...       ...  \n",
      "2027-08-28  25.6      0.0       0.0  \n",
      "2027-09-17  25.6      0.0       0.0  \n",
      "2027-10-14  25.6      0.0       0.0  \n",
      "2027-12-02  25.6      0.0       0.0  \n",
      "2027-12-11  25.6      0.0       0.0  \n",
      "\n",
      "[60000 rows x 9 columns]>\n"
     ]
    }
   ],
   "source": [
    "# handle duplicates \n",
    "data = df.groupby(['patient_id', 'visit_date']).mean().reset_index()\n",
    "\n",
    "# make visit_date a datetimeindex\n",
    "data.set_index('visit_date', inplace=True)\n",
    "\n",
    "# missing values\n",
    "data['bp_systolic'] = data['bp_systolic'].interpolate() \n",
    "\n",
    "print(data.head)"
   ]
  },
  {
   "cell_type": "markdown",
   "metadata": {},
   "source": [
    "## Time Series Task #2\n",
    "\n",
    "2. Analyze blood pressure trends:\n",
    "   - Resample the data to monthly frequency using mean aggregation\n",
    "   - Calculate 3-month moving averages to smooth out short-term fluctuations\n",
    "   - Visualize both the original and smoothed trends\n",
    "   - Tips:\n",
    "     - Use `resample('ME').mean()` for month-end frequency\n",
    "     - Add `min_periods` to `rolling()` to handle edge cases\n",
    "     - Consider `interpolate()` method for gaps\n",
    "     - Use `ewm()` for exponential weighted alternatives"
   ]
  },
  {
   "cell_type": "code",
   "execution_count": null,
   "metadata": {},
   "outputs": [],
   "source": []
  },
  {
   "cell_type": "markdown",
   "metadata": {},
   "source": [
    "## Statistical Modeling Task #1\n",
    "\n",
    "1. Analyze factors affecting baseline blood pressure:\n",
    "   - Use statsmodels OLS to predict `bp_systolic`\n",
    "   - Include `age`, `bmi`, `smoking`, and `diabetes` as predictors\n",
    "   - Interpret the coefficients and their p-values\n",
    "   - Assess model fit using R-squared and diagnostic plots\n",
    "   - Tips:\n",
    "     - Create feature matrix `X` with predictors and add constant term using `sm.add_constant()`\n",
    "     - Use `sm.OLS(y, X).fit()` to fit the model\n",
    "     - Use `summary()` to examine p-values and confidence intervals\n",
    "     - Plot residuals vs fitted values and Q-Q plot\n",
    "     - Consider robust standard errors with `HC3` covariance type"
   ]
  },
  {
   "cell_type": "markdown",
   "metadata": {},
   "source": [
    "## Statistical Modeling Task #2\n",
    "\n",
    "2. Model treatment effectiveness:\n",
    "   - Fit a GLM with binomial family to predict treatment success\n",
    "   - Use baseline characteristics and `adherence` as predictors\n",
    "   - Report odds ratios and their confidence intervals\n",
    "   - Assess model fit using deviance and diagnostic plots\n",
    "   - Tips:\n",
    "     - Create feature matrix `X` with predictors and add constant term\n",
    "     - Use `sm.GLM(y, X, family=sm.families.Binomial()).fit()`\n",
    "     - Get odds ratios with `np.exp(params)`\n",
    "     - Check residual deviance vs null deviance\n",
    "     - Use `influence()` to detect influential observations"
   ]
  }
 ],
 "metadata": {
  "kernelspec": {
   "display_name": "Python 3",
   "language": "python",
   "name": "python3"
  },
  "language_info": {
   "codemirror_mode": {
    "name": "ipython",
    "version": 3
   },
   "file_extension": ".py",
   "mimetype": "text/x-python",
   "name": "python",
   "nbconvert_exporter": "python",
   "pygments_lexer": "ipython3",
   "version": "3.12.1"
  }
 },
 "nbformat": 4,
 "nbformat_minor": 2
}
